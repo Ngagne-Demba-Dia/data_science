{
 "cells": [
  {
   "cell_type": "code",
   "execution_count": 1,
   "id": "f6407c41",
   "metadata": {},
   "outputs": [],
   "source": [
    "import pandas as pd\n",
    "import numpy as np\n",
    "\n",
    "etudiants = pd.DataFrame({\n",
    "    'Nom': ['Alice', 'Bob', 'Charles', 'David', 'Emma', 'Fatou', 'Greg'],\n",
    "    'Age': [23, 25, 22, 24, np.nan, 23, 26],\n",
    "    'Note': [14.5, 12.0, 13.0, np.nan, 16.0, 18.0, np.nan],\n",
    "    'Spécialité': ['Maths', 'Physique', 'Info', 'Maths', 'Info', 'Physique', 'Info']\n",
    "})\n",
    "df = pd.DataFrame(etudiants)\n"
   ]
  },
  {
   "cell_type": "markdown",
   "id": "16f3965b",
   "metadata": {},
   "source": [
    "Affiche les premières lignes du DataFrame"
   ]
  },
  {
   "cell_type": "code",
   "execution_count": 5,
   "id": "1bfe5ca8",
   "metadata": {},
   "outputs": [
    {
     "data": {
      "text/html": [
       "<div>\n",
       "<style scoped>\n",
       "    .dataframe tbody tr th:only-of-type {\n",
       "        vertical-align: middle;\n",
       "    }\n",
       "\n",
       "    .dataframe tbody tr th {\n",
       "        vertical-align: top;\n",
       "    }\n",
       "\n",
       "    .dataframe thead th {\n",
       "        text-align: right;\n",
       "    }\n",
       "</style>\n",
       "<table border=\"1\" class=\"dataframe\">\n",
       "  <thead>\n",
       "    <tr style=\"text-align: right;\">\n",
       "      <th></th>\n",
       "      <th>Nom</th>\n",
       "      <th>Age</th>\n",
       "      <th>Note</th>\n",
       "      <th>Spécialité</th>\n",
       "    </tr>\n",
       "  </thead>\n",
       "  <tbody>\n",
       "    <tr>\n",
       "      <th>0</th>\n",
       "      <td>Alice</td>\n",
       "      <td>23.0</td>\n",
       "      <td>14.5</td>\n",
       "      <td>Maths</td>\n",
       "    </tr>\n",
       "    <tr>\n",
       "      <th>1</th>\n",
       "      <td>Bob</td>\n",
       "      <td>25.0</td>\n",
       "      <td>12.0</td>\n",
       "      <td>Physique</td>\n",
       "    </tr>\n",
       "    <tr>\n",
       "      <th>2</th>\n",
       "      <td>Charles</td>\n",
       "      <td>22.0</td>\n",
       "      <td>13.0</td>\n",
       "      <td>Info</td>\n",
       "    </tr>\n",
       "    <tr>\n",
       "      <th>3</th>\n",
       "      <td>David</td>\n",
       "      <td>24.0</td>\n",
       "      <td>NaN</td>\n",
       "      <td>Maths</td>\n",
       "    </tr>\n",
       "    <tr>\n",
       "      <th>4</th>\n",
       "      <td>Emma</td>\n",
       "      <td>NaN</td>\n",
       "      <td>16.0</td>\n",
       "      <td>Info</td>\n",
       "    </tr>\n",
       "  </tbody>\n",
       "</table>\n",
       "</div>"
      ],
      "text/plain": [
       "       Nom   Age  Note Spécialité\n",
       "0    Alice  23.0  14.5      Maths\n",
       "1      Bob  25.0  12.0   Physique\n",
       "2  Charles  22.0  13.0       Info\n",
       "3    David  24.0   NaN      Maths\n",
       "4     Emma   NaN  16.0       Info"
      ]
     },
     "execution_count": 5,
     "metadata": {},
     "output_type": "execute_result"
    }
   ],
   "source": [
    "etudiants.head()\n"
   ]
  },
  {
   "cell_type": "markdown",
   "id": "6109f0dd",
   "metadata": {},
   "source": [
    "Affiche uniquement les colonnes Nom et Note"
   ]
  },
  {
   "cell_type": "code",
   "execution_count": 6,
   "id": "87a57f8a",
   "metadata": {},
   "outputs": [
    {
     "data": {
      "text/html": [
       "<div>\n",
       "<style scoped>\n",
       "    .dataframe tbody tr th:only-of-type {\n",
       "        vertical-align: middle;\n",
       "    }\n",
       "\n",
       "    .dataframe tbody tr th {\n",
       "        vertical-align: top;\n",
       "    }\n",
       "\n",
       "    .dataframe thead th {\n",
       "        text-align: right;\n",
       "    }\n",
       "</style>\n",
       "<table border=\"1\" class=\"dataframe\">\n",
       "  <thead>\n",
       "    <tr style=\"text-align: right;\">\n",
       "      <th></th>\n",
       "      <th>Nom</th>\n",
       "      <th>Note</th>\n",
       "    </tr>\n",
       "  </thead>\n",
       "  <tbody>\n",
       "    <tr>\n",
       "      <th>0</th>\n",
       "      <td>Alice</td>\n",
       "      <td>14.5</td>\n",
       "    </tr>\n",
       "    <tr>\n",
       "      <th>1</th>\n",
       "      <td>Bob</td>\n",
       "      <td>12.0</td>\n",
       "    </tr>\n",
       "    <tr>\n",
       "      <th>2</th>\n",
       "      <td>Charles</td>\n",
       "      <td>13.0</td>\n",
       "    </tr>\n",
       "    <tr>\n",
       "      <th>3</th>\n",
       "      <td>David</td>\n",
       "      <td>NaN</td>\n",
       "    </tr>\n",
       "    <tr>\n",
       "      <th>4</th>\n",
       "      <td>Emma</td>\n",
       "      <td>16.0</td>\n",
       "    </tr>\n",
       "    <tr>\n",
       "      <th>5</th>\n",
       "      <td>Fatou</td>\n",
       "      <td>18.0</td>\n",
       "    </tr>\n",
       "    <tr>\n",
       "      <th>6</th>\n",
       "      <td>Greg</td>\n",
       "      <td>NaN</td>\n",
       "    </tr>\n",
       "  </tbody>\n",
       "</table>\n",
       "</div>"
      ],
      "text/plain": [
       "       Nom  Note\n",
       "0    Alice  14.5\n",
       "1      Bob  12.0\n",
       "2  Charles  13.0\n",
       "3    David   NaN\n",
       "4     Emma  16.0\n",
       "5    Fatou  18.0\n",
       "6     Greg   NaN"
      ]
     },
     "execution_count": 6,
     "metadata": {},
     "output_type": "execute_result"
    }
   ],
   "source": [
    "df[['Nom', 'Note']]"
   ]
  },
  {
   "cell_type": "markdown",
   "id": "b88cc8f1",
   "metadata": {},
   "source": [
    "Affiche les étudiants de la spécialité “Info”"
   ]
  },
  {
   "cell_type": "code",
   "execution_count": 21,
   "id": "c2599f1b",
   "metadata": {},
   "outputs": [
    {
     "data": {
      "text/html": [
       "<div>\n",
       "<style scoped>\n",
       "    .dataframe tbody tr th:only-of-type {\n",
       "        vertical-align: middle;\n",
       "    }\n",
       "\n",
       "    .dataframe tbody tr th {\n",
       "        vertical-align: top;\n",
       "    }\n",
       "\n",
       "    .dataframe thead th {\n",
       "        text-align: right;\n",
       "    }\n",
       "</style>\n",
       "<table border=\"1\" class=\"dataframe\">\n",
       "  <thead>\n",
       "    <tr style=\"text-align: right;\">\n",
       "      <th></th>\n",
       "      <th>Nom</th>\n",
       "      <th>Age</th>\n",
       "      <th>Note</th>\n",
       "      <th>Spécialité</th>\n",
       "    </tr>\n",
       "  </thead>\n",
       "  <tbody>\n",
       "    <tr>\n",
       "      <th>2</th>\n",
       "      <td>Charles</td>\n",
       "      <td>22.0</td>\n",
       "      <td>13.0</td>\n",
       "      <td>Info</td>\n",
       "    </tr>\n",
       "    <tr>\n",
       "      <th>4</th>\n",
       "      <td>Emma</td>\n",
       "      <td>NaN</td>\n",
       "      <td>16.0</td>\n",
       "      <td>Info</td>\n",
       "    </tr>\n",
       "    <tr>\n",
       "      <th>6</th>\n",
       "      <td>Greg</td>\n",
       "      <td>26.0</td>\n",
       "      <td>NaN</td>\n",
       "      <td>Info</td>\n",
       "    </tr>\n",
       "  </tbody>\n",
       "</table>\n",
       "</div>"
      ],
      "text/plain": [
       "       Nom   Age  Note Spécialité\n",
       "2  Charles  22.0  13.0       Info\n",
       "4     Emma   NaN  16.0       Info\n",
       "6     Greg  26.0   NaN       Info"
      ]
     },
     "execution_count": 21,
     "metadata": {},
     "output_type": "execute_result"
    }
   ],
   "source": [
    "etudiants[etudiants['Spécialité'] == 'Info']\n",
    "# etudiants.loc[etudiants['Spécialité'] == 'Info', 'Nom'] #avec les noms\n"
   ]
  },
  {
   "cell_type": "markdown",
   "id": "46507e3b",
   "metadata": {},
   "source": [
    "Quels sont les étudiants qui ont une note ≥ 14 ?"
   ]
  },
  {
   "cell_type": "code",
   "execution_count": null,
   "id": "f0ca977a",
   "metadata": {},
   "outputs": [
    {
     "data": {
      "text/html": [
       "<div>\n",
       "<style scoped>\n",
       "    .dataframe tbody tr th:only-of-type {\n",
       "        vertical-align: middle;\n",
       "    }\n",
       "\n",
       "    .dataframe tbody tr th {\n",
       "        vertical-align: top;\n",
       "    }\n",
       "\n",
       "    .dataframe thead th {\n",
       "        text-align: right;\n",
       "    }\n",
       "</style>\n",
       "<table border=\"1\" class=\"dataframe\">\n",
       "  <thead>\n",
       "    <tr style=\"text-align: right;\">\n",
       "      <th></th>\n",
       "      <th>Nom</th>\n",
       "      <th>Age</th>\n",
       "      <th>Note</th>\n",
       "      <th>Spécialité</th>\n",
       "    </tr>\n",
       "  </thead>\n",
       "  <tbody>\n",
       "    <tr>\n",
       "      <th>0</th>\n",
       "      <td>Alice</td>\n",
       "      <td>23.0</td>\n",
       "      <td>14.5</td>\n",
       "      <td>Maths</td>\n",
       "    </tr>\n",
       "    <tr>\n",
       "      <th>4</th>\n",
       "      <td>Emma</td>\n",
       "      <td>NaN</td>\n",
       "      <td>16.0</td>\n",
       "      <td>Info</td>\n",
       "    </tr>\n",
       "    <tr>\n",
       "      <th>5</th>\n",
       "      <td>Fatou</td>\n",
       "      <td>23.0</td>\n",
       "      <td>18.0</td>\n",
       "      <td>Physique</td>\n",
       "    </tr>\n",
       "  </tbody>\n",
       "</table>\n",
       "</div>"
      ],
      "text/plain": [
       "     Nom   Age  Note Spécialité\n",
       "0  Alice  23.0  14.5      Maths\n",
       "4   Emma   NaN  16.0       Info\n",
       "5  Fatou  23.0  18.0   Physique"
      ]
     },
     "execution_count": 23,
     "metadata": {},
     "output_type": "execute_result"
    }
   ],
   "source": [
    "etudiants[etudiants['Note'] >= 14]\n",
    "# etudiants.loc[etudiants['Note'] >= 14, 'Nom'] #avec les noms\n"
   ]
  },
  {
   "cell_type": "markdown",
   "id": "6a018b09",
   "metadata": {},
   "source": [
    "Quelle est la moyenne des notes ? (en ignorant les NaN)\n"
   ]
  },
  {
   "cell_type": "code",
   "execution_count": 26,
   "id": "ae5922c3",
   "metadata": {},
   "outputs": [],
   "source": [
    "# etudiants[etudiants['Note']].mean()"
   ]
  },
  {
   "cell_type": "code",
   "execution_count": 38,
   "id": "0d7531fa",
   "metadata": {},
   "outputs": [
    {
     "data": {
      "text/plain": [
       "np.float64(14.7)"
      ]
     },
     "execution_count": 38,
     "metadata": {},
     "output_type": "execute_result"
    }
   ],
   "source": [
    "\n",
    "etudiants['Note'].mean()\n",
    "# etudiants['Note'].mean(skipna=True) #meme chose\n",
    "# etudiants['Note'].mean(skipna=False) #erreur car il y a des NaN\n",
    "\n"
   ]
  },
  {
   "cell_type": "markdown",
   "id": "2a62b03c",
   "metadata": {},
   "source": [
    "Remplace les notes manquantes par la moyenne"
   ]
  },
  {
   "cell_type": "code",
   "execution_count": 40,
   "id": "3e9c775c",
   "metadata": {},
   "outputs": [
    {
     "data": {
      "text/plain": [
       "0    14.5\n",
       "1    12.0\n",
       "2    13.0\n",
       "3    14.7\n",
       "4    16.0\n",
       "5    18.0\n",
       "6    14.7\n",
       "Name: Note, dtype: float64"
      ]
     },
     "execution_count": 40,
     "metadata": {},
     "output_type": "execute_result"
    }
   ],
   "source": [
    "moyenne_note = etudiants['Note'].mean()\n",
    "etudiants['Note'] = etudiants['Note'].fillna(moyenne_note)\n",
    "\n",
    "etudiants['Note']"
   ]
  },
  {
   "cell_type": "markdown",
   "id": "29e8ccae",
   "metadata": {},
   "source": [
    "Ajoute une colonne Mention :\n",
    "\"Bien\" si note ≥ 14\n",
    "\n",
    "\"Passable\" si note < 14\n",
    "\n",
    "\"Inconnu\" si note était NaN à l’origine"
   ]
  },
  {
   "cell_type": "code",
   "execution_count": 46,
   "id": "c2a845fd",
   "metadata": {},
   "outputs": [
    {
     "data": {
      "text/html": [
       "<div>\n",
       "<style scoped>\n",
       "    .dataframe tbody tr th:only-of-type {\n",
       "        vertical-align: middle;\n",
       "    }\n",
       "\n",
       "    .dataframe tbody tr th {\n",
       "        vertical-align: top;\n",
       "    }\n",
       "\n",
       "    .dataframe thead th {\n",
       "        text-align: right;\n",
       "    }\n",
       "</style>\n",
       "<table border=\"1\" class=\"dataframe\">\n",
       "  <thead>\n",
       "    <tr style=\"text-align: right;\">\n",
       "      <th></th>\n",
       "      <th>Nom</th>\n",
       "      <th>Note</th>\n",
       "      <th>Mention</th>\n",
       "    </tr>\n",
       "  </thead>\n",
       "  <tbody>\n",
       "    <tr>\n",
       "      <th>0</th>\n",
       "      <td>Alice</td>\n",
       "      <td>14.5</td>\n",
       "      <td>Bien</td>\n",
       "    </tr>\n",
       "    <tr>\n",
       "      <th>1</th>\n",
       "      <td>Bob</td>\n",
       "      <td>12.0</td>\n",
       "      <td>Passable</td>\n",
       "    </tr>\n",
       "    <tr>\n",
       "      <th>2</th>\n",
       "      <td>Charles</td>\n",
       "      <td>13.0</td>\n",
       "      <td>Passable</td>\n",
       "    </tr>\n",
       "    <tr>\n",
       "      <th>3</th>\n",
       "      <td>David</td>\n",
       "      <td>14.7</td>\n",
       "      <td>Bien</td>\n",
       "    </tr>\n",
       "    <tr>\n",
       "      <th>4</th>\n",
       "      <td>Emma</td>\n",
       "      <td>16.0</td>\n",
       "      <td>Bien</td>\n",
       "    </tr>\n",
       "    <tr>\n",
       "      <th>5</th>\n",
       "      <td>Fatou</td>\n",
       "      <td>18.0</td>\n",
       "      <td>Bien</td>\n",
       "    </tr>\n",
       "    <tr>\n",
       "      <th>6</th>\n",
       "      <td>Greg</td>\n",
       "      <td>14.7</td>\n",
       "      <td>Bien</td>\n",
       "    </tr>\n",
       "  </tbody>\n",
       "</table>\n",
       "</div>"
      ],
      "text/plain": [
       "       Nom  Note   Mention\n",
       "0    Alice  14.5      Bien\n",
       "1      Bob  12.0  Passable\n",
       "2  Charles  13.0  Passable\n",
       "3    David  14.7      Bien\n",
       "4     Emma  16.0      Bien\n",
       "5    Fatou  18.0      Bien\n",
       "6     Greg  14.7      Bien"
      ]
     },
     "execution_count": 46,
     "metadata": {},
     "output_type": "execute_result"
    }
   ],
   "source": [
    "def mention(note):\n",
    "    if pd.isna(note):\n",
    "        return 'Inconnu'\n",
    "    elif note >= 14:\n",
    "        return 'Bien'\n",
    "    else:\n",
    "        return 'Passable'\n",
    "\n",
    "etudiants['Mention'] = etudiants['Note'].apply(mention)\n",
    "etudiants[['Nom', 'Note', 'Mention']]\n"
   ]
  },
  {
   "cell_type": "markdown",
   "id": "32e6d310",
   "metadata": {},
   "source": [
    "Trie les étudiants par note décroissante"
   ]
  },
  {
   "cell_type": "code",
   "execution_count": 48,
   "id": "bd1302d4",
   "metadata": {},
   "outputs": [
    {
     "data": {
      "text/html": [
       "<div>\n",
       "<style scoped>\n",
       "    .dataframe tbody tr th:only-of-type {\n",
       "        vertical-align: middle;\n",
       "    }\n",
       "\n",
       "    .dataframe tbody tr th {\n",
       "        vertical-align: top;\n",
       "    }\n",
       "\n",
       "    .dataframe thead th {\n",
       "        text-align: right;\n",
       "    }\n",
       "</style>\n",
       "<table border=\"1\" class=\"dataframe\">\n",
       "  <thead>\n",
       "    <tr style=\"text-align: right;\">\n",
       "      <th></th>\n",
       "      <th>Nom</th>\n",
       "      <th>Age</th>\n",
       "      <th>Note</th>\n",
       "      <th>Spécialité</th>\n",
       "      <th>Mention</th>\n",
       "    </tr>\n",
       "  </thead>\n",
       "  <tbody>\n",
       "    <tr>\n",
       "      <th>5</th>\n",
       "      <td>Fatou</td>\n",
       "      <td>23.0</td>\n",
       "      <td>18.0</td>\n",
       "      <td>Physique</td>\n",
       "      <td>Bien</td>\n",
       "    </tr>\n",
       "    <tr>\n",
       "      <th>4</th>\n",
       "      <td>Emma</td>\n",
       "      <td>NaN</td>\n",
       "      <td>16.0</td>\n",
       "      <td>Info</td>\n",
       "      <td>Bien</td>\n",
       "    </tr>\n",
       "    <tr>\n",
       "      <th>3</th>\n",
       "      <td>David</td>\n",
       "      <td>24.0</td>\n",
       "      <td>14.7</td>\n",
       "      <td>Maths</td>\n",
       "      <td>Bien</td>\n",
       "    </tr>\n",
       "    <tr>\n",
       "      <th>6</th>\n",
       "      <td>Greg</td>\n",
       "      <td>26.0</td>\n",
       "      <td>14.7</td>\n",
       "      <td>Info</td>\n",
       "      <td>Bien</td>\n",
       "    </tr>\n",
       "    <tr>\n",
       "      <th>0</th>\n",
       "      <td>Alice</td>\n",
       "      <td>23.0</td>\n",
       "      <td>14.5</td>\n",
       "      <td>Maths</td>\n",
       "      <td>Bien</td>\n",
       "    </tr>\n",
       "    <tr>\n",
       "      <th>2</th>\n",
       "      <td>Charles</td>\n",
       "      <td>22.0</td>\n",
       "      <td>13.0</td>\n",
       "      <td>Info</td>\n",
       "      <td>Passable</td>\n",
       "    </tr>\n",
       "    <tr>\n",
       "      <th>1</th>\n",
       "      <td>Bob</td>\n",
       "      <td>25.0</td>\n",
       "      <td>12.0</td>\n",
       "      <td>Physique</td>\n",
       "      <td>Passable</td>\n",
       "    </tr>\n",
       "  </tbody>\n",
       "</table>\n",
       "</div>"
      ],
      "text/plain": [
       "       Nom   Age  Note Spécialité   Mention\n",
       "5    Fatou  23.0  18.0   Physique      Bien\n",
       "4     Emma   NaN  16.0       Info      Bien\n",
       "3    David  24.0  14.7      Maths      Bien\n",
       "6     Greg  26.0  14.7       Info      Bien\n",
       "0    Alice  23.0  14.5      Maths      Bien\n",
       "2  Charles  22.0  13.0       Info  Passable\n",
       "1      Bob  25.0  12.0   Physique  Passable"
      ]
     },
     "execution_count": 48,
     "metadata": {},
     "output_type": "execute_result"
    }
   ],
   "source": [
    "tri = etudiants.sort_values(by='Note', ascending=False)\n",
    "tri"
   ]
  },
  {
   "cell_type": "markdown",
   "id": "fafc5c55",
   "metadata": {},
   "source": [
    " Supprime les étudiants sans âge renseigné"
   ]
  },
  {
   "cell_type": "code",
   "execution_count": 54,
   "id": "025ec2c0",
   "metadata": {},
   "outputs": [
    {
     "data": {
      "text/html": [
       "<div>\n",
       "<style scoped>\n",
       "    .dataframe tbody tr th:only-of-type {\n",
       "        vertical-align: middle;\n",
       "    }\n",
       "\n",
       "    .dataframe tbody tr th {\n",
       "        vertical-align: top;\n",
       "    }\n",
       "\n",
       "    .dataframe thead th {\n",
       "        text-align: right;\n",
       "    }\n",
       "</style>\n",
       "<table border=\"1\" class=\"dataframe\">\n",
       "  <thead>\n",
       "    <tr style=\"text-align: right;\">\n",
       "      <th></th>\n",
       "      <th>Nom</th>\n",
       "      <th>Age</th>\n",
       "    </tr>\n",
       "  </thead>\n",
       "  <tbody>\n",
       "    <tr>\n",
       "      <th>0</th>\n",
       "      <td>Alice</td>\n",
       "      <td>23.0</td>\n",
       "    </tr>\n",
       "    <tr>\n",
       "      <th>1</th>\n",
       "      <td>Bob</td>\n",
       "      <td>25.0</td>\n",
       "    </tr>\n",
       "    <tr>\n",
       "      <th>2</th>\n",
       "      <td>Charles</td>\n",
       "      <td>22.0</td>\n",
       "    </tr>\n",
       "    <tr>\n",
       "      <th>3</th>\n",
       "      <td>David</td>\n",
       "      <td>24.0</td>\n",
       "    </tr>\n",
       "    <tr>\n",
       "      <th>5</th>\n",
       "      <td>Fatou</td>\n",
       "      <td>23.0</td>\n",
       "    </tr>\n",
       "    <tr>\n",
       "      <th>6</th>\n",
       "      <td>Greg</td>\n",
       "      <td>26.0</td>\n",
       "    </tr>\n",
       "  </tbody>\n",
       "</table>\n",
       "</div>"
      ],
      "text/plain": [
       "       Nom   Age\n",
       "0    Alice  23.0\n",
       "1      Bob  25.0\n",
       "2  Charles  22.0\n",
       "3    David  24.0\n",
       "5    Fatou  23.0\n",
       "6     Greg  26.0"
      ]
     },
     "execution_count": 54,
     "metadata": {},
     "output_type": "execute_result"
    }
   ],
   "source": [
    "etudiants_sans_age = etudiants.dropna(subset=['Age'])\n",
    "\n",
    "etudiants_sans_age[['Nom', 'Age']]"
   ]
  },
  {
   "cell_type": "markdown",
   "id": "c9954266",
   "metadata": {},
   "source": [
    "Groupe les étudiants par spécialité et donne la moyenne des notes"
   ]
  },
  {
   "cell_type": "code",
   "execution_count": null,
   "id": "65102520",
   "metadata": {},
   "outputs": [
    {
     "data": {
      "text/plain": [
       "Spécialité\n",
       "Info        14.566667\n",
       "Maths       14.600000\n",
       "Physique    15.000000\n",
       "Name: Note, dtype: float64"
      ]
     },
     "execution_count": 57,
     "metadata": {},
     "output_type": "execute_result"
    }
   ],
   "source": [
    "etudiants.groupby('Spécialité')['Note'].mean()\n",
    "# etudiants.groupby('Spécialité').agg({'Note': 'mean', 'Age': 'mean'})--> #moyenne des notes et des ages par spécialité\n",
    "\n"
   ]
  }
 ],
 "metadata": {
  "kernelspec": {
   "display_name": "base",
   "language": "python",
   "name": "python3"
  },
  "language_info": {
   "codemirror_mode": {
    "name": "ipython",
    "version": 3
   },
   "file_extension": ".py",
   "mimetype": "text/x-python",
   "name": "python",
   "nbconvert_exporter": "python",
   "pygments_lexer": "ipython3",
   "version": "3.12.7"
  }
 },
 "nbformat": 4,
 "nbformat_minor": 5
}
