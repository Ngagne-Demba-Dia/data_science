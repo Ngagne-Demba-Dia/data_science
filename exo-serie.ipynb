{
 "cells": [
  {
   "cell_type": "code",
   "execution_count": 1,
   "id": "a45de0f7",
   "metadata": {},
   "outputs": [],
   "source": [
    "import pandas as pd\n",
    "import numpy as np\n",
    "\n",
    "notes = pd.Series([14, 12, np.nan, 9, 16, 18, np.nan, 13], \n",
    "                  index=[\"Alice\", \"Bob\", \"Charles\", \"David\", \"Emma\", \"Fatou\", \"Greg\", \"Hugo\"])\n"
   ]
  },
  {
   "cell_type": "markdown",
   "id": "a9365b32",
   "metadata": {},
   "source": [
    "Afficher les noms des étudiants"
   ]
  },
  {
   "cell_type": "code",
   "execution_count": 3,
   "id": "7ce55acc",
   "metadata": {},
   "outputs": [
    {
     "name": "stdout",
     "output_type": "stream",
     "text": [
      "Index(['Alice', 'Bob', 'Charles', 'David', 'Emma', 'Fatou', 'Greg', 'Hugo'], dtype='object')\n"
     ]
    }
   ],
   "source": [
    "print(notes.index)\n"
   ]
  },
  {
   "cell_type": "markdown",
   "id": "99c93f3d",
   "metadata": {},
   "source": [
    " Accéder à la note de Fatou et Charles"
   ]
  },
  {
   "cell_type": "code",
   "execution_count": 5,
   "id": "c36827f4",
   "metadata": {},
   "outputs": [
    {
     "data": {
      "text/plain": [
       "Fatou      18.0\n",
       "Charles     NaN\n",
       "dtype: float64"
      ]
     },
     "execution_count": 5,
     "metadata": {},
     "output_type": "execute_result"
    }
   ],
   "source": [
    "notes[[\"Fatou\", \"Charles\"]]\n"
   ]
  },
  {
   "cell_type": "markdown",
   "id": "5fff09e6",
   "metadata": {},
   "source": [
    "Quels étudiants ont eu une note ≥ 14 ?"
   ]
  },
  {
   "cell_type": "code",
   "execution_count": 7,
   "id": "07f4d261",
   "metadata": {},
   "outputs": [
    {
     "data": {
      "text/plain": [
       "Alice    14.0\n",
       "Emma     16.0\n",
       "Fatou    18.0\n",
       "dtype: float64"
      ]
     },
     "execution_count": 7,
     "metadata": {},
     "output_type": "execute_result"
    }
   ],
   "source": [
    "notes[notes >= 14]"
   ]
  },
  {
   "cell_type": "markdown",
   "id": "3b642799",
   "metadata": {},
   "source": [
    "Remplacer les NaN par la moyenne des autres notes"
   ]
  },
  {
   "cell_type": "code",
   "execution_count": 10,
   "id": "254b348c",
   "metadata": {},
   "outputs": [
    {
     "data": {
      "text/plain": [
       "Alice      14.000000\n",
       "Bob        12.000000\n",
       "Charles    13.666667\n",
       "David       9.000000\n",
       "Emma       16.000000\n",
       "Fatou      18.000000\n",
       "Greg       13.666667\n",
       "Hugo       13.000000\n",
       "dtype: float64"
      ]
     },
     "execution_count": 10,
     "metadata": {},
     "output_type": "execute_result"
    }
   ],
   "source": [
    "moyenne_sans_nan = notes.mean()       # moyenne automatique sans les NaN\n",
    "notes_filled = notes.fillna(moyenne_sans_nan)\n",
    "\n",
    "notes_filled\n"
   ]
  },
  {
   "cell_type": "markdown",
   "id": "b87799e7",
   "metadata": {},
   "source": [
    " Calculer la moyenne générale des notes"
   ]
  },
  {
   "cell_type": "code",
   "execution_count": 15,
   "id": "28a34fd3",
   "metadata": {},
   "outputs": [
    {
     "name": "stdout",
     "output_type": "stream",
     "text": [
      "Alice      1.750\n",
      "Bob        1.500\n",
      "Charles      NaN\n",
      "David      1.125\n",
      "Emma       2.000\n",
      "Fatou      2.250\n",
      "Greg         NaN\n",
      "Hugo       1.625\n",
      "dtype: float64 /n 13.666666666666666\n"
     ]
    }
   ],
   "source": [
    "moyenne_generale = notes/len(notes)  # moyenne générale avec les NaN\n",
    "moyenne_generale1 = notes.mean()      # moyenne générale sans les NaN   \n",
    "\n",
    "print(moyenne_generale, \"/n\", moyenne_generale1)"
   ]
  },
  {
   "cell_type": "markdown",
   "id": "0f199822",
   "metadata": {},
   "source": [
    "Créer une Series bonus avec +1 pour les notes ≥ 14"
   ]
  },
  {
   "cell_type": "code",
   "execution_count": 17,
   "id": "e9dff83b",
   "metadata": {},
   "outputs": [
    {
     "data": {
      "text/plain": [
       "Alice      15.0\n",
       "Bob         0.0\n",
       "Charles     NaN\n",
       "David       0.0\n",
       "Emma       17.0\n",
       "Fatou      19.0\n",
       "Greg        NaN\n",
       "Hugo        0.0\n",
       "dtype: float64"
      ]
     },
     "execution_count": 17,
     "metadata": {},
     "output_type": "execute_result"
    }
   ],
   "source": [
    "bonus = notes.copy()\n",
    "bonus[bonus >= 14] = bonus[bonus >= 14] + 1\n",
    "bonus[bonus < 14] = 0\n",
    "\n",
    "bonus"
   ]
  },
  {
   "cell_type": "markdown",
   "id": "5c316a55",
   "metadata": {},
   "source": [
    " Combiner notes et bonus en addition"
   ]
  },
  {
   "cell_type": "code",
   "execution_count": 18,
   "id": "8495c632",
   "metadata": {},
   "outputs": [
    {
     "data": {
      "text/plain": [
       "Alice      29.0\n",
       "Bob        12.0\n",
       "Charles     NaN\n",
       "David       9.0\n",
       "Emma       33.0\n",
       "Fatou      37.0\n",
       "Greg        NaN\n",
       "Hugo       13.0\n",
       "dtype: float64"
      ]
     },
     "execution_count": 18,
     "metadata": {},
     "output_type": "execute_result"
    }
   ],
   "source": [
    "notes + bonus"
   ]
  },
  {
   "cell_type": "markdown",
   "id": "f7e79595",
   "metadata": {},
   "source": [
    "Quels étudiants n’ont pas été notés ?\n"
   ]
  },
  {
   "cell_type": "code",
   "execution_count": 26,
   "id": "498bf751",
   "metadata": {},
   "outputs": [
    {
     "data": {
      "text/plain": [
       "Charles   NaN\n",
       "Greg      NaN\n",
       "dtype: float64"
      ]
     },
     "execution_count": 26,
     "metadata": {},
     "output_type": "execute_result"
    }
   ],
   "source": [
    "notes[notes.isna()]\n",
    "# notes[notes.isna().sum()]  # qui n'ont pas été notés ?"
   ]
  },
  {
   "cell_type": "markdown",
   "id": "8e134fe1",
   "metadata": {},
   "source": [
    " Quel est le max et le min des notes ?"
   ]
  },
  {
   "cell_type": "code",
   "execution_count": 31,
   "id": "32caeb54",
   "metadata": {},
   "outputs": [
    {
     "data": {
      "text/plain": [
       "(18.0, 9.0)"
      ]
     },
     "execution_count": 31,
     "metadata": {},
     "output_type": "execute_result"
    }
   ],
   "source": [
    "\n",
    "notes.max() ,notes.min()"
   ]
  },
  {
   "cell_type": "markdown",
   "id": "4a59081a",
   "metadata": {},
   "source": [
    "qui a eu la meilleure note ? &&  qui a eu la moins bonne note ?"
   ]
  },
  {
   "cell_type": "code",
   "execution_count": null,
   "id": "3bdb4a37",
   "metadata": {},
   "outputs": [
    {
     "name": "stdout",
     "output_type": "stream",
     "text": [
      "Fatou    18.0\n",
      "dtype: float64\n",
      "David    9.0\n",
      "dtype: float64\n",
      "Index(['Fatou'], dtype='object')\n"
     ]
    }
   ],
   "source": [
    "print(notes[notes == notes.max()])  \n",
    "print(notes[notes == notes.min()])  "
   ]
  },
  {
   "cell_type": "markdown",
   "id": "46e10a85",
   "metadata": {},
   "source": [
    "Trier les notes par ordre décroissant"
   ]
  },
  {
   "cell_type": "code",
   "execution_count": 34,
   "id": "0ef665c0",
   "metadata": {},
   "outputs": [
    {
     "data": {
      "text/plain": [
       "Fatou      18.0\n",
       "Emma       16.0\n",
       "Alice      14.0\n",
       "Hugo       13.0\n",
       "Bob        12.0\n",
       "David       9.0\n",
       "Charles     NaN\n",
       "Greg        NaN\n",
       "dtype: float64"
      ]
     },
     "execution_count": 34,
     "metadata": {},
     "output_type": "execute_result"
    }
   ],
   "source": [
    "tri = notes.sort_values(ascending=False)\n",
    "tri"
   ]
  },
  {
   "cell_type": "markdown",
   "id": "d7ed602d",
   "metadata": {},
   "source": [
    "Trier les notes par ordre croissant"
   ]
  },
  {
   "cell_type": "code",
   "execution_count": 38,
   "id": "922bc5f5",
   "metadata": {},
   "outputs": [
    {
     "data": {
      "text/plain": [
       "David       9.0\n",
       "Bob        12.0\n",
       "Hugo       13.0\n",
       "Alice      14.0\n",
       "Emma       16.0\n",
       "Fatou      18.0\n",
       "Charles     NaN\n",
       "Greg        NaN\n",
       "dtype: float64"
      ]
     },
     "execution_count": 38,
     "metadata": {},
     "output_type": "execute_result"
    }
   ],
   "source": [
    "tri = notes.sort_values(ascending=True)\n",
    "tri"
   ]
  }
 ],
 "metadata": {
  "kernelspec": {
   "display_name": "base",
   "language": "python",
   "name": "python3"
  },
  "language_info": {
   "codemirror_mode": {
    "name": "ipython",
    "version": 3
   },
   "file_extension": ".py",
   "mimetype": "text/x-python",
   "name": "python",
   "nbconvert_exporter": "python",
   "pygments_lexer": "ipython3",
   "version": "3.12.7"
  }
 },
 "nbformat": 4,
 "nbformat_minor": 5
}
